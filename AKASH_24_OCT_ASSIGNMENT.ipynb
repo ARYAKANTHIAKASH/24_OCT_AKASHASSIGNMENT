{
 "cells": [
  {
   "cell_type": "code",
   "execution_count": 1,
   "id": "da1340d6",
   "metadata": {},
   "outputs": [
    {
     "data": {
      "text/plain": [
       "'ans).To see the identity of an object we use a function called id\\n    signature of the function id is\\n    id\\n    <function id(obj,/)>\\n    examples:\\n        In[]: string=\"Akash\"\\n        In[]: print(id(string))\\n        Out[]:258478964568666\\n        '"
      ]
     },
     "execution_count": 1,
     "metadata": {},
     "output_type": "execute_result"
    }
   ],
   "source": [
    "#A)What would be output of the following\n",
    "\n",
    "#1. “Today\" + “ ” + “is a great day”\n",
    "#ans).'Today is a great day'\n",
    "\n",
    "#2. “Today\" “ ” “is a great day”\n",
    "#ans).'Today is a great day'\n",
    "\n",
    "#3. type(2.3)==float (T/F)\n",
    "#ans).True\n",
    "\n",
    "#4. type(20)=int (T/F)\n",
    "#ans).True\n",
    "\n",
    "#5. len([1,2,3,4,5,6,7,8]) will return ____?\n",
    "#ans).8\n",
    "\n",
    "#6. str(“Hello “) is a valid python statement (T/F)\n",
    "#ans).True\n",
    "\n",
    "#7. Justify your answer with examples ( 10)\n",
    "#ans). 1).As we know that str represents string datatypes as we found \"Hello\" is also a string datatype\n",
    "#      2).because we know that anything enclosed inside double quotes(\" \") is  a string\n",
    "#       \n",
    "\n",
    "#8. \"somani\".__getitem__(-1) == “somani”[-1] returns ___?\n",
    "#ans).'i'\n",
    "\n",
    "# 9. ord('b') returns __?\n",
    "#ans).98\n",
    "\n",
    "# 10. To see the identity of an object which function is used?\n",
    "\n",
    "\"\"\"ans).To see the identity of an object we use a function called id\n",
    "    In[]:signature of the function id is\n",
    "    In[]:id\n",
    "    In[]:<function id(obj,/)>\n",
    "    examples:\n",
    "        In[]: string=\"Akash\"\n",
    "        In[]: print(id(string))\n",
    "        Out[]:258478964568666\n",
    "        \"\"\""
   ]
  },
  {
   "cell_type": "code",
   "execution_count": 2,
   "id": "f37e9084",
   "metadata": {},
   "outputs": [],
   "source": [
    "#B) Demonstrate the difference between a string and a raw-string\n",
    "#ans).STRING\n",
    "#1).A String is a data type in python contains data enclosed within single\n",
    "#double,triple quotes (' ',\" \",\"\"\" \"\"\")\n",
    "#2).It stores homogeneous values and it is immutable\n",
    "#3).It does not support item assignment\n",
    "#  EXAMPLES: In[]: string=\"Akash\"\n",
    "\n",
    "#    RAW-STRING\n",
    "#1).If a user donot want python to interpret special characters like new line character(\\n)\n",
    "#   tabline character(\\t),vertical teb(\\v),carriage return(\\r),\\b\n",
    "#2).Then by just prefixing a string with r makes the string a raw-string and python prints\n",
    "#   the string as it is by neglecting the function of special characters\n",
    "#  EXAMPLE : In[]: r'c:\\nameof\\the\\very\\spatial\\bat'\n",
    "#            Out[]:r'c:\\nameof\\the\\very\\spatial\\bat'\n",
    "\n",
    "\n",
    "     "
   ]
  },
  {
   "cell_type": "code",
   "execution_count": 22,
   "id": "6a906849",
   "metadata": {},
   "outputs": [],
   "source": [
    "#C) result = int(\"101\") is a valid statement. Explain with clear demonstration\n",
    "\n",
    "#ans). yes,result= int(\"101\") is a valid statement in python as we know that\n",
    "#      The object int is used for converting from one numbersystem to another\n",
    "#      for example: In[]:int('101',base=2)\n",
    "#                  Out[]:5\n",
    "#      similarly in this  int(\"101\") we have base value as default 10\n",
    "#      and the number system with base value equal to 10 is decimal\n",
    "#      so it provides us the output as 101 itself"
   ]
  },
  {
   "cell_type": "code",
   "execution_count": 4,
   "id": "704c427d",
   "metadata": {},
   "outputs": [],
   "source": [
    "#D) int(\"1010\",base=2) will return _____?\n",
    "\n",
    "#ans).Out[]: 10"
   ]
  },
  {
   "cell_type": "code",
   "execution_count": 23,
   "id": "03358b0e",
   "metadata": {},
   "outputs": [],
   "source": [
    "#E) bin(7) will return ______?\n",
    "\n",
    "#ans)Explanation: bin(7) will returns us the binary value of digit 7 as \n",
    "#                 Out[]:'0b0111'\n",
    "#here b represents binary value\n"
   ]
  },
  {
   "cell_type": "code",
   "execution_count": 6,
   "id": "c0c38872",
   "metadata": {},
   "outputs": [],
   "source": [
    "#F) Write a function that takes an Integer, and returns the bit length of that integer.\n",
    "\n",
    "#ans).In[]: def my_int(num)->'This function takes input as integer and returns bitlength':\n",
    "#               result = num.bit_length()\n",
    "#               print(result)"
   ]
  },
  {
   "cell_type": "code",
   "execution_count": 7,
   "id": "fdeeeef3",
   "metadata": {},
   "outputs": [],
   "source": [
    "#G) Write a function to accept a list only and return a list with all elements squared? \n",
    "\n",
    "#ans).def my_func(seq)->'This function returns us the squared elements in list only':\n",
    "#         if type(seq)==list:\n",
    "#            res = [i*i for i in seq]\n",
    "#            print(res)\n",
    "#         else:\n",
    "#             print(\"Only lists are allowed\")"
   ]
  },
  {
   "cell_type": "code",
   "execution_count": 8,
   "id": "3befca87",
   "metadata": {},
   "outputs": [],
   "source": [
    "#H) Explain the difference between mutability and immutability with clear demonstration.\n",
    "\n",
    "#ans).The main difference between MUTABILITY and IMMUTABILITY is the objects which are\n",
    "#     changeable known as MUTABLE OBJECTS  and which donot change they known as IMMUTABLE\n",
    "#     Objects\n",
    "#     MUTABLE OBJECTS EXAMPLES: Lists, Dictionaries, Set\n",
    "#     IMMUTABLE OBJECTS EXAMPLES: int,float,double,string,tuple\n",
    "#Lets take a  example \n",
    "#case1:\n",
    "#   In[]: l=[]\n",
    "#   In[]: l, id(l)\n",
    "#   In[]: l=l+[1,2,3]\n",
    "#   In[]: l, id(l)\n",
    "#case2:\n",
    "#   In[]:m=[]\n",
    "#   In[]:m,id(m)\n",
    "#   In[]:m.append(1)\n",
    "#   In[]:m,id(m)\n",
    "#In the case one the memory address will change because we are using an assignment operator\n",
    "#because of that python will creates another memory space for the list l\n",
    "#But in the case 2 the memory address will remains same because the objects which shrinks \n",
    "#without changing memory address is possible by using The .append() like methods\n",
    "\n"
   ]
  },
  {
   "cell_type": "code",
   "execution_count": 9,
   "id": "c3c182c7",
   "metadata": {},
   "outputs": [],
   "source": [
    "#I) Can we update a tuple? Demonstrate\n",
    "\n",
    "#ans). Note we cannot use the keyword UPDATE in tuple objects\n",
    "#      YES we can update a tuple but not directly because it will rise a error saying\n",
    "#      tuple has no object like UPDATE\n",
    "#      so we need to first convert it into a list and then can update a list\n",
    "#      finally we again convert list to tuple \n",
    "#      so that we can update Tuple successfully.\n",
    "#EXAMPLE: In[]:t=1,2,3\n",
    "#         In[]:l=list(t)\n",
    "#         In[]:l.__setitem__(1,'a')\n",
    "#         In[]:print(l)\n",
    "#         In[]:t=tuple(l)\n",
    "#         In[]:print(t)\n",
    "\n",
    "#output will be as (1,'a',3)\n"
   ]
  },
  {
   "cell_type": "code",
   "execution_count": 10,
   "id": "f88aa65a",
   "metadata": {},
   "outputs": [],
   "source": [
    "#J) Using lambda, wap that accepts a sentence and returns the list of all words in the sentence\n",
    "\n",
    "#ans).In[]:f=(lambda msg:msg.split(' ',maxsplit=-1))\n",
    "#     In[]:f(\"Hi This is lambda function\")\n",
    "#     Out[]:['Hi','This','is','lambda','function']"
   ]
  },
  {
   "cell_type": "code",
   "execution_count": 11,
   "id": "400f230e",
   "metadata": {},
   "outputs": [
    {
     "data": {
      "text/plain": [
       "\" num = -3\\n while num:\\n print('num = {}'.format(num))\\n num = num +1\\n print('Final value of num on exit = {}'.format(num))\\n\""
      ]
     },
     "execution_count": 11,
     "metadata": {},
     "output_type": "execute_result"
    }
   ],
   "source": [
    "#K) Guess the output of the following.\n",
    "\"\"\" num = -3\n",
    " while num:\n",
    " print('num = {}'.format(num))\n",
    " num = num +1\n",
    " print('Final value of num on exit = {}'.format(num))\n",
    "\"\"\"\n",
    "\n",
    "#ans).num=-3\n",
    "#     num=-2\n",
    "#     num=-1\n",
    "#     Final value of num on exit = 0"
   ]
  },
  {
   "cell_type": "code",
   "execution_count": 12,
   "id": "1dba0995",
   "metadata": {},
   "outputs": [],
   "source": [
    "#L) 'rahul' != 'rahul' is ____?\n",
    "#ans). False"
   ]
  },
  {
   "cell_type": "code",
   "execution_count": 13,
   "id": "81367e3d",
   "metadata": {},
   "outputs": [],
   "source": [
    "#M) Can we compare two tuples using the comparison operator <. If the\n",
    "#answer is yes than which magic method is responsible for making it possible\n",
    "#to compare tuples?\n",
    "\n",
    "#ans).Yes it is possible to compare two tuples t1 and t2 by using < operator\n",
    "#     t1.__lt__(t2)---> this magic method is actually respomsible for comparing two\n",
    "#     tuples\n",
    "# for ex: In[]:t1=1,2,3\n",
    "#        In[]:t2=4,5,6\n",
    "#        In[]:t1.__lt__(t2)\n"
   ]
  },
  {
   "cell_type": "code",
   "execution_count": 14,
   "id": "7b8d47db",
   "metadata": {},
   "outputs": [],
   "source": [
    "#N) Give an example of a while loop that will never end.\n",
    "\n",
    "#ans). while loop that never ends\n",
    "#      i=10\n",
    "#      while i>=10:\n",
    "#            print(\"never ends\")\n",
    "#            i+=1\n"
   ]
  },
  {
   "cell_type": "code",
   "execution_count": 15,
   "id": "265e6bd1",
   "metadata": {},
   "outputs": [],
   "source": [
    "#O) Give an example of a while loop that will never execute.\n",
    "\n",
    "#ans). l=[]\n",
    "#      i=0\n",
    "#      while i<=1000:\n",
    "#            break\n",
    "#            l.append(i)\n",
    "#            i+=1\n",
    "#            print(l)\n",
    "#      print(\"never executes\")"
   ]
  },
  {
   "cell_type": "code",
   "execution_count": 30,
   "id": "9d0233aa",
   "metadata": {},
   "outputs": [],
   "source": [
    "#P) Write function to accept to accept any number of positional and keyword\n",
    "#arguments.\n",
    "\n",
    "#ans). def my_function(*args,*kwargs)->\"This accepts any number of positional and keyword args\":\n",
    "#          \n",
    "#          print(\"the positional args ={}\".format(args))\n",
    "#          print(\"The keyword args = {}\".format(kwargs))\n",
    "#          print(\"end of program\".center(100,'='))"
   ]
  },
  {
   "cell_type": "code",
   "execution_count": null,
   "id": "1cbad40c",
   "metadata": {},
   "outputs": [],
   "source": [
    "\"\"\"Q) Which magic method is called to create an object?\n",
    "• Explain self\n",
    "o Explain class and static method with examples\n",
    "o\n",
    "\"\"\"\n",
    "\n",
    "#ans). self defines object itself"
   ]
  },
  {
   "cell_type": "code",
   "execution_count": 31,
   "id": "b9884799",
   "metadata": {},
   "outputs": [
    {
     "data": {
      "text/plain": [
       "'R) Write a class that has methods to connect to SQLite. Write methods to\\nperform insert,read,update and delete operation on the table. The Table\\nshould have the following fields. No two rows (records) can have the same ID.\\nID,name,age,profession.\\n'"
      ]
     },
     "execution_count": 31,
     "metadata": {},
     "output_type": "execute_result"
    }
   ],
   "source": [
    "\"\"\"R) Write a class that has methods to connect to SQLite. Write methods to\n",
    "perform insert,read,update and delete operation on the table. The Table\n",
    "should have the following fields. No two rows (records) can have the same ID.\n",
    "ID,name,age,profession.\n",
    "\"\"\"\n",
    "\n",
    "#ans). import sqlite3 as sq\n",
    "#      class DatabaseConnection:\n",
    "#          \"\"\"This is a class which connects our machine to database through sqlite3 \n",
    "#          \"\"\"\n",
    "#          con=sq.connect(\"mydb\".sqlite3)\n",
    "#           def make_connection(self)->This function makes connection with database:\n",
    "#               self.con=DatabaseConnection.con\n",
    "#               print(\"connection established\")\n",
    "            \n",
    "#           def create_table(self)->This function creates a TABLE FOR US:\n",
    "#             self.con.execute('create table if not exists TABLE('name TEXT','Id INT','age INT','profess TEXT')')\n",
    "#             print(\"Table created\")\n",
    "#            \n",
    "#           def insert_values(self,a,b,c,d)->This function enables storing and inserting deatils of employee:\n",
    "#            self.con.execute('insert data into TABLE values(?,?,?,?)',(a,b,c,d))\n",
    "#            print(\"values inserted\")\n",
    "            \n",
    "#           def retrieve_values(self)->This function gets back details of employee:\n",
    "#            record=self.con.execute('select *from TABLE')\n",
    "#            for row in record:\n",
    "#                print(row)\n"
   ]
  },
  {
   "cell_type": "code",
   "execution_count": null,
   "id": "bdaf745b",
   "metadata": {},
   "outputs": [],
   "source": [
    "\"\"\"R) Write a function that can\n",
    "• Create a file\n",
    "• Write contents to the file\n",
    "• Read Content from the file\n",
    "• Search for something in the file using regular expression\n",
    "\"\"\"\n",
    "\n",
    "#ans). import re\n",
    "#      import sqlite3 as sq\n",
    "#      con=sq.connect('myfile'.db)\n",
    "#      def creation(self,fname)->'This creates a table':\n",
    "#         self.fname=fname\n",
    "#         f=open('akash.txt','a')\n",
    "#      def write(self,msg)'This function helps us to write some text':\n",
    "#         f.write('msg')\n",
    "#         f.close()\n",
    "#      def read(self)->This function helps to read data:\n",
    "#         f=open(\"self.fname\",'r')\n",
    "#         print(f.readlines(self.fname))\n",
    "#      def search(self)->This function searches for data we want:\n",
    "#      pattern=r'\\w+\\d+@\\w+.\\w+'\n",
    "#      result=re.findAll(pattern,self.fname)\n",
    "#      print(result.group())\n",
    "           \n",
    "           "
   ]
  },
  {
   "cell_type": "code",
   "execution_count": null,
   "id": "566705bd",
   "metadata": {},
   "outputs": [],
   "source": []
  }
 ],
 "metadata": {
  "kernelspec": {
   "display_name": "Python 3 (ipykernel)",
   "language": "python",
   "name": "python3"
  },
  "language_info": {
   "codemirror_mode": {
    "name": "ipython",
    "version": 3
   },
   "file_extension": ".py",
   "mimetype": "text/x-python",
   "name": "python",
   "nbconvert_exporter": "python",
   "pygments_lexer": "ipython3",
   "version": "3.9.7"
  }
 },
 "nbformat": 4,
 "nbformat_minor": 5
}
